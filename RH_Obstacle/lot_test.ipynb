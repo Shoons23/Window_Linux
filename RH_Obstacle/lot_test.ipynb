{
 "cells": [
  {
   "cell_type": "code",
   "execution_count": null,
   "metadata": {},
   "outputs": [],
   "source": [
    "import cv2\n",
    "\n",
    "from ultralytics import solutions\n",
    "\n",
    "# Path to json file, that created with above point selection app\n",
    "polygon_json_path = \"bounding_boxes.json\"\n",
    "\n",
    "# Video capture\n",
    "cap = cv2.VideoCapture(\"Path/to/video/file.mp4\")\n",
    "assert cap.isOpened(), \"Error reading video file\"\n",
    "w, h, fps = (int(cap.get(x)) for x in (cv2.CAP_PROP_FRAME_WIDTH, cv2.CAP_PROP_FRAME_HEIGHT, cv2.CAP_PROP_FPS))\n",
    "\n",
    "# Video writer\n",
    "video_writer = cv2.VideoWriter(\"parking management.avi\", cv2.VideoWriter_fourcc(*\"mp4v\"), fps, (w, h))\n",
    "\n",
    "# Initialize parking management object\n",
    "management = solutions.ParkingManagement(model_path=\"yolov8n.pt\")\n",
    "\n",
    "while cap.isOpened():\n",
    "    ret, im0 = cap.read()\n",
    "    if not ret:\n",
    "        break\n",
    "\n",
    "    json_data = management.parking_regions_extraction(polygon_json_path)\n",
    "    results = management.model.track(im0, persist=True, show=False)\n",
    "\n",
    "    if results[0].boxes.id is not None:\n",
    "        boxes = results[0].boxes.xyxy.cpu().tolist()\n",
    "        clss = results[0].boxes.cls.cpu().tolist()\n",
    "        management.process_data(json_data, im0, boxes, clss)\n",
    "\n",
    "    management.display_frames(im0)\n",
    "    video_writer.write(im0)\n",
    "\n",
    "cap.release()\n",
    "video_writer.release()\n",
    "cv2.destroyAllWindows()"
   ]
  }
 ],
 "metadata": {
  "language_info": {
   "name": "python"
  }
 },
 "nbformat": 4,
 "nbformat_minor": 2
}
